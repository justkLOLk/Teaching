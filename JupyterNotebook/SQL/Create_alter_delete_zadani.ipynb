{
  "nbformat": 4,
  "nbformat_minor": 0,
  "metadata": {
    "interpreter": {
      "hash": "844666d065970604720619e9beaf7cae1bffaee307c095d8082add94b805615d"
    },
    "kernelspec": {
      "display_name": "Python 3.9.6 64-bit (system)",
      "name": "python3"
    },
    "language_info": {
      "codemirror_mode": {
        "name": "ipython",
        "version": 3
      },
      "file_extension": ".py",
      "mimetype": "text/x-python",
      "name": "python",
      "nbconvert_exporter": "python",
      "pygments_lexer": "ipython3",
      "version": "3.9.6"
    },
    "orig_nbformat": 4,
    "colab": {
      "name": "Create_alter_delete_zadani.ipynb",
      "provenance": [],
      "include_colab_link": true
    }
  },
  "cells": [
    {
      "cell_type": "markdown",
      "metadata": {
        "id": "view-in-github",
        "colab_type": "text"
      },
      "source": [
        "<a href=\"https://colab.research.google.com/github/justkLOLk/Teaching/blob/master/JupyterNotebook/SQL/Create_alter_delete_zadani.ipynb\" target=\"_parent\"><img src=\"https://colab.research.google.com/assets/colab-badge.svg\" alt=\"Open In Colab\"/></a>"
      ]
    },
    {
      "cell_type": "markdown",
      "metadata": {
        "id": "lTYs8Vz6f7rK"
      },
      "source": [
        "# SQL databáze - vytvoření- úprava a mazání tabulky\n",
        "\n",
        "SQL databáze se používají k uložení a následnému zpracování dat.\n",
        "Samotné databáze si můžeme představit jako klasické excelovské tabulky.\n",
        "Kromě samotných informací se v databázích také nachází SŘBD (Systém Řízení Báze Dat), který umí s uloženými informacemi pracovat - např. ukládat, vyhledávat, provádět výpočty.\n",
        "\n",
        "## Syntaxe\n",
        "Jazyk SQL je dotazovací jazyk, pomocí kterého si můžeme \"povídat\" s databází.\n",
        "V dotazech nezapisujeme, jak se má požadovaný výsledek získat, ale pouze zapíšreme co chceme za výsledek. Tyto příkazy budeme provádět pomocí knihovny, která se jmenuje my-sql-connector\n",
        "\n",
        "__pozn.:__ Knihovna mysql-connector nebere jako validní datový typ text. Musí se zadat char(max. počet znaků), např.: jmeno char(10). V podkladech je však uveden datový typ text pro přehlednost. Tato poznámka platí pro všechny následující podklady.\n",
        "\n",
        "## Instalace balíčku"
      ]
    },
    {
      "cell_type": "code",
      "metadata": {
        "id": "1NbVIogAf7rh"
      },
      "source": [
        "!pip install mysql-connector"
      ],
      "execution_count": null,
      "outputs": []
    },
    {
      "cell_type": "markdown",
      "metadata": {
        "id": "Nv1Wz0vTf7rq"
      },
      "source": [
        "# Připojení k databázi\n",
        "Předtím než si budeme s databázemi povídat, tak se k nim musíme připojit.\n",
        "To se provede následující částí kódu"
      ]
    },
    {
      "cell_type": "code",
      "metadata": {
        "id": "rvOZMM5Mf7ry",
        "colab": {
          "base_uri": "https://localhost:8080/",
          "height": 383
        },
        "outputId": "61a185f8-180e-419d-d612-560ff352d464"
      },
      "source": [
        "import mysql.connector\n",
        "\n",
        "# tento příkaz nás připojí do databáze\n",
        "mydb = mysql.connector.connect(\n",
        "    host = \"ip databáze - řekne vám učitel\"\n",
        "    ,user = \"řekne vám učitel\"\n",
        "    ,password = \"řekne vám učitel\"\n",
        "    ,database = \"řekne vám učitel\"\n",
        ")\n",
        "\n",
        "mycursor = mydb.cursor() # proměnnou mycursor si můžeme představit jako myš a klávesnici, kterými zadáváme hodnoty do databáze a potvrzujeme příkazy\n",
        "\n",
        "# tyto poslední 2 příkazy nás odpojí od databáze\n",
        "mycursor.close()\n",
        "mydb.close()"
      ],
      "execution_count": 1,
      "outputs": [
        {
          "output_type": "error",
          "ename": "ModuleNotFoundError",
          "evalue": "No module named 'mysql'",
          "traceback": [
            "\u001b[0;31m---------------------------------------------------------------------------\u001b[0m",
            "\u001b[0;31mModuleNotFoundError\u001b[0m                       Traceback (most recent call last)",
            "\u001b[0;32m/tmp/ipython-input-2052621497.py\u001b[0m in \u001b[0;36m<cell line: 0>\u001b[0;34m()\u001b[0m\n\u001b[0;32m----> 1\u001b[0;31m \u001b[0;32mimport\u001b[0m \u001b[0mmysql\u001b[0m\u001b[0;34m.\u001b[0m\u001b[0mconnector\u001b[0m\u001b[0;34m\u001b[0m\u001b[0;34m\u001b[0m\u001b[0m\n\u001b[0m\u001b[1;32m      2\u001b[0m \u001b[0;34m\u001b[0m\u001b[0m\n\u001b[1;32m      3\u001b[0m \u001b[0;31m# tento příkaz nás připojí do databáze\u001b[0m\u001b[0;34m\u001b[0m\u001b[0;34m\u001b[0m\u001b[0m\n\u001b[1;32m      4\u001b[0m mydb = mysql.connector.connect(\n\u001b[1;32m      5\u001b[0m     \u001b[0mhost\u001b[0m \u001b[0;34m=\u001b[0m \u001b[0;34m\"ip databáze - řekne vám učitel\"\u001b[0m\u001b[0;34m\u001b[0m\u001b[0;34m\u001b[0m\u001b[0m\n",
            "\u001b[0;31mModuleNotFoundError\u001b[0m: No module named 'mysql'",
            "",
            "\u001b[0;31m---------------------------------------------------------------------------\u001b[0;32m\nNOTE: If your import is failing due to a missing package, you can\nmanually install dependencies using either !pip or !apt.\n\nTo view examples of installing some common dependencies, click the\n\"Open Examples\" button below.\n\u001b[0;31m---------------------------------------------------------------------------\u001b[0m\n"
          ],
          "errorDetails": {
            "actions": [
              {
                "action": "open_url",
                "actionText": "Open Examples",
                "url": "/notebooks/snippets/importing_libraries.ipynb"
              }
            ]
          }
        }
      ]
    },
    {
      "cell_type": "markdown",
      "metadata": {
        "id": "V0jRZhK-f7r2"
      },
      "source": [
        "# CREATE TABLE - vytvoření tabulky\n",
        "Tabulkka se v databázi vytvoří pomocí klíčových slov CREATE TABLE\n",
        "\n",
        "## Syntaxe"
      ]
    },
    {
      "cell_type": "code",
      "metadata": {
        "id": "SM0jSuf-f7r4"
      },
      "source": [
        "mydb = mysql.connector.connect(\n",
        "    host = \"ip databáze - řekne vám učitel\"\n",
        "    ,user = \"řekne vám učitel\"\n",
        "    ,password = \"řekne vám učitel\"\n",
        "    ,database = \"řekne vám učitel\"\n",
        ")\n",
        "mycursor = mydb.cursor()\n",
        "\n",
        "# do \"\"\"\"\"\" se zadává samotný SQL požadavek\n",
        "# příkaz execute si můžeme představit jako napsání SQL požadavku do phpMyAdmin\n",
        "# SQL dotaz je v trojitých uvozovkách proto, abychom ho mohli napsat na více řádků (přehledně) - můžeme ho dát i do jednoduchých uvozovek, ale potom musí být na jednom řádku.\n",
        "mycursor.execute(\"\"\"CREATE TABLE Automobil(\n",
        "    id int,\n",
        "    spz char(7),\n",
        "    pocet_sedadel int,\n",
        "    max_rychlost int,\n",
        "    nosnost int,\n",
        "    nutna_kvalifikace text,\n",
        "    datum_vyroby date\n",
        ")\"\"\")\n",
        "\n",
        "mydb.commit() # tento příkaz si můžeme představit jako stisknutí Enteru\n",
        "\n",
        "mycursor.close()\n",
        "mydb.close()"
      ],
      "execution_count": null,
      "outputs": []
    },
    {
      "cell_type": "markdown",
      "metadata": {
        "id": "HahXgPQ5f7r8"
      },
      "source": [
        "Při vytváření musíme zadat:\n",
        "- Název tabulky\n",
        "- Názvy sloupečků (atributy)\n",
        "- Datový typ jednotlivých sloupečků (int, text, date, atd...)"
      ]
    },
    {
      "cell_type": "markdown",
      "metadata": {
        "id": "ZA4pgc1ef7sS"
      },
      "source": [
        "# DROP TABLE - smazání tabulky\n",
        "Slouží k mazání tabulek.\n",
        "Aby smazání proběhlo úspěšně nesmí být na tabulce závislá jíná tabulka a tabulka kterou chceme smazat musí existovat."
      ]
    },
    {
      "cell_type": "code",
      "metadata": {
        "id": "MW8bhbUQf7sU"
      },
      "source": [
        "mydb = mysql.connector.connect(\n",
        "    host = \"dbs.spskladno.cz\"\n",
        "    ,user = \"rekne_ucitel\"\n",
        "    ,password = \"rekne_ucitel\"\n",
        "    ,database = \"zavisi_na_useru\"\n",
        ")\n",
        "mycursor = mydb.cursor()\n",
        "\n",
        "mycursor.execute(\"\"\"DROP TABLE Automobil;\"\"\")\n",
        "\n",
        "mydb.commit()\n",
        "\n",
        "mycursor.close()\n",
        "mydb.close()"
      ],
      "execution_count": null,
      "outputs": []
    },
    {
      "cell_type": "markdown",
      "metadata": {
        "id": "TkUugR3wlQ4o"
      },
      "source": [
        "Dále můžeme ke sloupečkům přidat:\n",
        "- Vlastní klíč (Primary Key)\n",
        "- Cizí klíč (Foreign Key)\n",
        "- NOT NULL - hodnota nesmí být prázdná\n",
        "- UNIQUE - hodnota se nesmí v tabulce (v tomto sloupečku) opakovat\n",
        "- AUTOINCREMENT - SŘBD sám přiřadí hodnotu - o jedná vyšší než je doposud nejvyšší\n",
        "- DEFAULT - pokud není hodnota vypněna, uloží se tato nastavená\n",
        "Podrobnější vysvětlení každého z atributu naleznete v samostatném JupyterNotebooku [Vlastnosti_atributu](https://github.com/JaroslavHolecek/Teaching/tree/master/JupyterNotebook/SQL)\n",
        "\n",
        "Příkaz pro vytvoření tabulky s výše uvedenými specifikacemi může vypadat následovně"
      ]
    },
    {
      "cell_type": "code",
      "metadata": {
        "id": "IJEjcWovf7r_"
      },
      "source": [
        "mydb = mysql.connector.connect(\n",
        "    host = \"ip databáze - řekne vám učitel\"\n",
        "    ,user = \"řekne vám učitel\"\n",
        "    ,password = \"řekne vám učitel\"\n",
        "    ,database = \"řekne vám učitel\"\n",
        ")\n",
        "mycursor = mydb.cursor()\n",
        "\n",
        "# mycursor.execute(\"\"\"DROP TABLE Automobil \"\"\")\n",
        "mycursor.execute(\"\"\"CREATE TABLE Automobil(\n",
        "    id int PRIMARY KEY AUTO_INCREMENT,  /* Vlastní klíč - může být jen jeden v tabulce */\n",
        "    spz char(7) NOT NULL UNIQUE,        /* UNIQUE - v tabulce se nemůže opakovat spz, NOT NULL - spz musí být vyplněna*/\n",
        "    pocet_sedadel int NOT NULL,         /* NOT NULL - počet sedadel musí být vyplněn */\n",
        "    max_rychlost int,\n",
        "    nosnost int,\n",
        "    nutna_kvalifikace text NOT NULL DEFAULT \"B\",  /* DEFAULT - pokud nezadáme hodnotu doplní se \"B\", NOT NULL - nutná klasifikace musí být vyplněna - tedy nemůžeme manuálně vložit NULL*/\n",
        "    datum_vyroby date\n",
        ");\"\"\")\n",
        "\n",
        "mydb.commit()\n",
        "\n",
        "mycursor.close()\n",
        "mydb.close()"
      ],
      "execution_count": null,
      "outputs": []
    },
    {
      "cell_type": "markdown",
      "metadata": {
        "id": "NJBgQBeTf7sK"
      },
      "source": [
        "# ALTER TABLE - úprava tabulky\n",
        "Slouží k úpravě tabulky poté, co jsme ji již vytvořili.\n",
        "Můžeme přidávat a mazat sloupečky, měnit datové typy, přidávat cizí klíče, atd..."
      ]
    },
    {
      "cell_type": "code",
      "metadata": {
        "id": "oOW30an4f7sO"
      },
      "source": [
        "mydb = mysql.connector.connect(\n",
        "    host = \"ip databáze - řekne vám učitel\"\n",
        "    ,user = \"řekne vám učitel\"\n",
        "    ,password = \"řekne vám učitel\"\n",
        "    ,database = \"řekne vám učitel\"\n",
        ")\n",
        "mycursor = mydb.cursor()\n",
        "\n",
        "#mycursor.execute(\"\"\"DROP TABLE Automobil \"\"\")\n",
        "mycursor.execute(\"\"\"CREATE TABLE Automobil(\n",
        "    id int PRIMARY KEY AUTO_INCREMENT,\n",
        "    spz char(7) NOT NULL UNIQUE,\n",
        "    pocet_sedadel int NOT NULL,\n",
        "    max_rychlost int,\n",
        "    nosnost int,\n",
        "    nutna_kvalifikace text NOT NULL DEFAULT \"B\"\n",
        ")\"\"\")\n",
        "\n",
        "mydb.commit()\n",
        "\n",
        "mycursor.execute(\"\"\"ALTER TABLE Automobil ADD datum_vyroby date;\"\"\")\n",
        "\n",
        "mydb.commit()\n",
        "\n",
        "mycursor.close()\n",
        "mydb.close()"
      ],
      "execution_count": null,
      "outputs": []
    },
    {
      "cell_type": "markdown",
      "metadata": {
        "id": "nJN5XahCf7sc"
      },
      "source": [
        "# Datové typy\n",
        "V databázích existuje mnoho datových typů, my se ale jimy nebudeme příliš zabívat.\n",
        "Správné zvolení datového typu zefektivňuje chod databáze.\n",
        "Přehled datových typů najdete [zde](https://www.w3schools.com/sql/sql_datatypes.asp).\n",
        "\n",
        "# Cvičení\n",
        "Zde bude následovat série úkolů, díky kterým si můžete ověřit, zda jste látku pochopili.\n",
        "\n",
        "## Cvičení 1:\n",
        "Připojte se k databázi a vytvořte tabulku s názvem Uživatel a atributy id(int), jméno(char(10)), příjmení(char(20)), email(char(50))\n",
        "\n",
        "Nepřidávejte k atributům žádné další vlastnosti\n"
      ]
    },
    {
      "cell_type": "code",
      "metadata": {
        "id": "bAlIaotCf7se",
        "colab": {
          "base_uri": "https://localhost:8080/",
          "height": 211
        },
        "outputId": "3f9c3fec-c970-4cd6-e6b8-a02b2e62898a"
      },
      "source": [
        "mydb = mysql.connector.connect(\n",
        "    host = \"dbs.spskladno.cz\"\n",
        "    ,user = \"student8\"\n",
        "    ,password = \"spsnet\"\n",
        "    ,database = \"vyuka8\"\n",
        ")\n",
        "mycursor = mydb.cursor()\n",
        "\n",
        "# TODO: zde vytvořte tabulku\n",
        "mycursor.execute(\"\"\"CREATE TABLE Uživatel(\n",
        "\n",
        "\n",
        "\"\"\")\n",
        "\n",
        "mydb.commit()\n",
        "\n",
        "# tuto část neměnit!\n",
        "mycursor.execute(\"\"\"DESCRIBE Uživatel\"\"\")\n",
        "table = str(mycursor.fetchall())\n",
        "expected = \"[('id', 'int(11)', 'YES', '', None, ''), ('jméno', 'char(10)', 'YES', '', None, ''), ('příjmení', 'char(20)', 'YES', '', None, ''), ('email', 'char(50)', 'YES', '', None, '')]\"\n",
        "if table == expected:\n",
        "    print(\"Tabulka vytvořena správně.\")\n",
        "else:\n",
        "  print(\"Tabulka není dle zadání.\\nVaše tabulka:\")\n",
        "  print(table)\n",
        "  print(\"Očekávaná tabulka:\")\n",
        "  print(expected)\n",
        "  print(\"Výpis se liší na pozicích:\", [ i for i in range(min(len(table),len(expected))) if table[i] != expected[i] ])\n",
        "\n",
        "\n",
        "mycursor.execute(\"\"\"DROP TABLE Uživatel\"\"\")\n",
        "mydb.commit()\n",
        "\n",
        "mycursor.close()\n",
        "mydb.close()"
      ],
      "execution_count": 4,
      "outputs": [
        {
          "output_type": "error",
          "ename": "NameError",
          "evalue": "name 'mysql' is not defined",
          "traceback": [
            "\u001b[0;31m---------------------------------------------------------------------------\u001b[0m",
            "\u001b[0;31mNameError\u001b[0m                                 Traceback (most recent call last)",
            "\u001b[0;32m/tmp/ipython-input-990408687.py\u001b[0m in \u001b[0;36m<cell line: 0>\u001b[0;34m()\u001b[0m\n\u001b[0;32m----> 1\u001b[0;31m mydb = mysql.connector.connect(\n\u001b[0m\u001b[1;32m      2\u001b[0m     \u001b[0mhost\u001b[0m \u001b[0;34m=\u001b[0m \u001b[0;34m\"dbs.spskladno.cz\"\u001b[0m\u001b[0;34m\u001b[0m\u001b[0;34m\u001b[0m\u001b[0m\n\u001b[1;32m      3\u001b[0m     \u001b[0;34m,\u001b[0m\u001b[0muser\u001b[0m \u001b[0;34m=\u001b[0m \u001b[0;34m\"student8\"\u001b[0m\u001b[0;34m\u001b[0m\u001b[0;34m\u001b[0m\u001b[0m\n\u001b[1;32m      4\u001b[0m     \u001b[0;34m,\u001b[0m\u001b[0mpassword\u001b[0m \u001b[0;34m=\u001b[0m \u001b[0;34m\"spsnet\"\u001b[0m\u001b[0;34m\u001b[0m\u001b[0;34m\u001b[0m\u001b[0m\n\u001b[1;32m      5\u001b[0m     \u001b[0;34m,\u001b[0m\u001b[0mdatabase\u001b[0m \u001b[0;34m=\u001b[0m \u001b[0;34m\"vyuka8\"\u001b[0m\u001b[0;34m\u001b[0m\u001b[0;34m\u001b[0m\u001b[0m\n",
            "\u001b[0;31mNameError\u001b[0m: name 'mysql' is not defined"
          ]
        }
      ]
    },
    {
      "cell_type": "markdown",
      "metadata": {
        "id": "9TRvsn6_f7sg"
      },
      "source": [
        "## Cvičení 2:\n",
        "Připojte se k databázi a vytvořte tabulku s názvem Uživatel, atributy a vlastnostmi atributů id(int, PRIMARY KEY, AUTO_INCREMENT), jméno(char(10), NOT NULL), příjmení(char(20), NOT NULL), email(char(50), NOT NULL, UNIQUE)"
      ]
    },
    {
      "cell_type": "code",
      "metadata": {
        "id": "LjrmmTUSf7si"
      },
      "source": [
        "mydb = mysql.connector.connect(\n",
        "    host = \"ip databáze - řekne vám učitel\"\n",
        "    ,user = \"řekne vám učitel\"\n",
        "    ,password = \"řekne vám učitel\"\n",
        "    ,database = \"řekne vám učitel\"\n",
        ")\n",
        "mycursor = mydb.cursor()\n",
        "\n",
        "# TODO: zde přijde váš kód ->\n",
        "\n",
        "# tuto část neměnit!\n",
        "mycursor.execute(\"\"\"DESCRIBE Uživatel\"\"\")\n",
        "table = str(mycursor.fetchall())\n",
        "expected = \"[('id', 'int(11)', 'NO', 'PRI', None, 'auto_increment'), ('jméno', 'char(10)', 'NO', '', None, ''), ('příjmení', 'char(20)', 'NO', '', None, ''), ('email', 'char(50)', 'NO', 'UNI', None, '')]\"\n",
        "if table == expected:\n",
        "    print(\"Tabulka vytvořena správně.\")\n",
        "else:\n",
        "  print(\"Tabulka není dle zadání.\\nVaše tabulka:\")\n",
        "  print(table)\n",
        "  print(\"Očekávaná tabulka:\")\n",
        "  print(expected)\n",
        "  print(\"Výpis se liší na pozicích:\", [ i for i in range(min(len(table),len(expected))) if table[i] != expected[i] ])\n",
        "\n",
        "mycursor.execute(\"\"\"DROP TABLE Uživatel\"\"\")\n",
        "mydb.commit()\n",
        "\n",
        "mycursor.close()\n",
        "mydb.close()"
      ],
      "execution_count": null,
      "outputs": []
    },
    {
      "cell_type": "markdown",
      "metadata": {
        "id": "Fq_VXRG2f7sk"
      },
      "source": [
        "## Cvičení 3:\n",
        "Dopište kód tak, aby se tabulka Uživatel rozšířila o atribut datum_narození(date). Pro rozšíření použijte příkaz ALTER"
      ]
    },
    {
      "cell_type": "code",
      "metadata": {
        "id": "AWH-aX5hf7sm"
      },
      "source": [
        "mydb = mysql.connector.connect(\n",
        "    host = \"ip databáze - řekne vám učitel\"\n",
        "    ,user = \"řekne vám učitel\"\n",
        "    ,password = \"řekne vám učitel\"\n",
        "    ,database = \"řekne vám učitel\"\n",
        ")\n",
        "mycursor = mydb.cursor()\n",
        "\n",
        "# tento příkaz neměnit!\n",
        "mycursor.execute(\"\"\"CREATE TABLE Uživatel(\n",
        "    id int,\n",
        "    jméno char(10),\n",
        "    příjmení char(20),\n",
        "    email char(50)\n",
        "    )\"\"\")\n",
        "mydb.commit()\n",
        "\n",
        "# TODO: zde přijde váš kód ->\n",
        "\n",
        "\n",
        "# tuto část neměnit!\n",
        "mycursor.execute(\"\"\"DESCRIBE Uživatel\"\"\")\n",
        "table = str(mycursor.fetchall())\n",
        "expected = \"[('id', 'int(11)', 'YES', '', None, ''), ('jméno', 'char(10)', 'YES', '', None, ''), ('příjmení', 'char(20)', 'YES', '', None, ''), ('email', 'char(50)', 'YES', '', None, ''), ('datum_narození', 'date', 'YES', '', None, '')]\"\n",
        "if table == expected:\n",
        "    print(\"Tabulka vytvořena správně.\")\n",
        "else:\n",
        "  print(\"Tabulka není dle zadání.\\nVaše tabulka:\")\n",
        "  print(table)\n",
        "  print(\"Očekávaná tabulka:\")\n",
        "  print(expected)\n",
        "  print(\"Výpis se liší na pozicích:\", [ i for i in range(min(len(table),len(expected))) if table[i] != expected[i] ])\n",
        "\n",
        "mycursor.execute(\"\"\"DROP TABLE Uživatel\"\"\")\n",
        "mydb.commit()\n",
        "\n",
        "mycursor.close()\n",
        "mydb.close()"
      ],
      "execution_count": null,
      "outputs": []
    },
    {
      "cell_type": "markdown",
      "metadata": {
        "id": "axmBt1svf7sn"
      },
      "source": [
        "## Cvičení 4:\n",
        "Napište kód, který se připojí na vaši databázi, vytvořte tabulku Test s atributy a vlastnostmi atributů id(int, AUTO_INCREMENT, PRIMARY KEY), nazev(char(15) NOT NULL, UNIQUE).\n",
        "Tabulku pomocí příkazu ALTER rozšiřte o atribut datum(date, NOT NULL).\n",
        "Celou tabulku následně smažte."
      ]
    },
    {
      "cell_type": "code",
      "metadata": {
        "id": "Os7QtJ1Pf7so"
      },
      "source": [
        "# Závěrečný úkol je celý na vás - výsledek si zkontrolujte přes dbs.spskladno.cz/myadmin\n"
      ],
      "execution_count": null,
      "outputs": []
    },
    {
      "cell_type": "markdown",
      "metadata": {
        "id": "9AY8x-6ay_cj"
      },
      "source": [
        "<p>Výsledek v MyAdmin</p>\n",
        "<img width=\"500\" src=\"https://raw.githubusercontent.com/JaroslavHolecek/Teaching/master/JupyterNotebook/SQL/Images/JyputerNotebook_checkExercise_SQLcreate.png\">"
      ]
    },
    {
      "cell_type": "code",
      "metadata": {
        "id": "x1xxlCWYwkD5"
      },
      "source": [
        "# zde tabulku po kontrole správnosti smažte - výsledek si zkontrolujte přes dbs.spskladno.cz/myadmin\n"
      ],
      "execution_count": null,
      "outputs": []
    }
  ]
}